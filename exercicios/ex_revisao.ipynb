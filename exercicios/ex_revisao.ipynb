{
 "cells": [
  {
   "cell_type": "markdown",
   "metadata": {},
   "source": [
    "# Revisão de conhecimento\n",
    "\n",
    "## *CE074 - Controle de Processos Industriais*"
   ]
  },
  {
   "cell_type": "markdown",
   "metadata": {},
   "source": [
    "1. Quais as suposições de um experimento inteiramente casualizado?\n",
    "```\n",
    "As UEs devem ser independentes.\n",
    "A determinação dos níveis dos fatores para as UEs deve ser aleatória.\n",
    "A distribuição dos dados amostrais deve ser normal (?).\n",
    "A variância deve ser homocedástica entre os níveis dos fatores (?).\n",
    "```"
   ]
  },
  {
   "cell_type": "markdown",
   "metadata": {},
   "source": [
    "1. (**Descreva**) Como é a aleatorização dos níveis em um experimento\n",
    "inteiramente casualizado?\n",
    "```\n",
    "Os níveis dos fatores são atribuídos aleatoriamente para cada UE. Uma\n",
    "forma simples de fazer este sorteio aleatório é definir um valor para\n",
    "cada UE.\n",
    "```\n",
    "(**Use o R**) Como você faria se tivesse um fator com 3 níveis (A, B,\n",
    "C), e quisesse fazer 4 repetições para cada nível do fator?"
   ]
  },
  {
   "cell_type": "code",
   "execution_count": 4,
   "metadata": {},
   "outputs": [
    {
     "data": {
      "text/html": [
       "<table>\n",
       "<thead><tr><th scope=col>UE</th><th scope=col>Fator</th></tr></thead>\n",
       "<tbody>\n",
       "\t<tr><td> 1</td><td>A </td></tr>\n",
       "\t<tr><td> 2</td><td>C </td></tr>\n",
       "\t<tr><td> 3</td><td>B </td></tr>\n",
       "\t<tr><td> 4</td><td>B </td></tr>\n",
       "\t<tr><td> 5</td><td>C </td></tr>\n",
       "\t<tr><td> 6</td><td>A </td></tr>\n",
       "\t<tr><td> 7</td><td>C </td></tr>\n",
       "\t<tr><td> 8</td><td>C </td></tr>\n",
       "\t<tr><td> 9</td><td>A </td></tr>\n",
       "\t<tr><td>10</td><td>A </td></tr>\n",
       "\t<tr><td>11</td><td>B </td></tr>\n",
       "\t<tr><td>12</td><td>B </td></tr>\n",
       "</tbody>\n",
       "</table>\n"
      ],
      "text/latex": [
       "\\begin{tabular}{r|ll}\n",
       " UE & Fator\\\\\n",
       "\\hline\n",
       "\t  1 & A \\\\\n",
       "\t  2 & C \\\\\n",
       "\t  3 & B \\\\\n",
       "\t  4 & B \\\\\n",
       "\t  5 & C \\\\\n",
       "\t  6 & A \\\\\n",
       "\t  7 & C \\\\\n",
       "\t  8 & C \\\\\n",
       "\t  9 & A \\\\\n",
       "\t 10 & A \\\\\n",
       "\t 11 & B \\\\\n",
       "\t 12 & B \\\\\n",
       "\\end{tabular}\n"
      ],
      "text/markdown": [
       "\n",
       "UE | Fator | \n",
       "|---|---|---|---|---|---|---|---|---|---|---|---|\n",
       "|  1 | A  | \n",
       "|  2 | C  | \n",
       "|  3 | B  | \n",
       "|  4 | B  | \n",
       "|  5 | C  | \n",
       "|  6 | A  | \n",
       "|  7 | C  | \n",
       "|  8 | C  | \n",
       "|  9 | A  | \n",
       "| 10 | A  | \n",
       "| 11 | B  | \n",
       "| 12 | B  | \n",
       "\n",
       "\n"
      ],
      "text/plain": [
       "   UE Fator\n",
       "1   1 A    \n",
       "2   2 C    \n",
       "3   3 B    \n",
       "4   4 B    \n",
       "5   5 C    \n",
       "6   6 A    \n",
       "7   7 C    \n",
       "8   8 C    \n",
       "9   9 A    \n",
       "10 10 A    \n",
       "11 11 B    \n",
       "12 12 B    "
      ]
     },
     "metadata": {},
     "output_type": "display_data"
    }
   ],
   "source": [
    "## Dessa forma, temos 3 x 4 = 12 UEs. Associamos os valores de 1 a 12\n",
    "## para cada UE, e sorteamos os níveis dos fatores para cada uma\n",
    "nf <- 3\n",
    "r <- 4\n",
    "n <- nf * r\n",
    "fator <- rep(c(\"A\", \"B\", \"C\"), each = r)\n",
    "set.seed(123)\n",
    "(DIC <- data.frame(UE = 1:n, Fator = sample(fator)))"
   ]
  },
  {
   "cell_type": "code",
   "execution_count": 5,
   "metadata": {},
   "outputs": [
    {
     "data": {
      "text/html": [
       "<table>\n",
       "<thead><tr><th></th><th scope=col>1</th><th scope=col>2</th><th scope=col>3</th></tr></thead>\n",
       "<tbody>\n",
       "\t<tr><th scope=row>1</th><td>A</td><td>C</td><td>A</td></tr>\n",
       "\t<tr><th scope=row>2</th><td>C</td><td>A</td><td>A</td></tr>\n",
       "\t<tr><th scope=row>3</th><td>B</td><td>C</td><td>B</td></tr>\n",
       "\t<tr><th scope=row>4</th><td>B</td><td>C</td><td>B</td></tr>\n",
       "</tbody>\n",
       "</table>\n"
      ],
      "text/latex": [
       "\\begin{tabular}{r|lll}\n",
       "  & 1 & 2 & 3\\\\\n",
       "\\hline\n",
       "\t1 & A & C & A\\\\\n",
       "\t2 & C & A & A\\\\\n",
       "\t3 & B & C & B\\\\\n",
       "\t4 & B & C & B\\\\\n",
       "\\end{tabular}\n"
      ],
      "text/markdown": [
       "\n",
       "| <!--/--> | 1 | 2 | 3 | \n",
       "|---|---|---|---|\n",
       "| 1 | A | C | A | \n",
       "| 2 | C | A | A | \n",
       "| 3 | B | C | B | \n",
       "| 4 | B | C | B | \n",
       "\n",
       "\n"
      ],
      "text/plain": [
       "  1 2 3\n",
       "1 A C A\n",
       "2 C A A\n",
       "3 B C B\n",
       "4 B C B"
      ]
     },
     "metadata": {},
     "output_type": "display_data"
    }
   ],
   "source": [
    "## Croqui do experimento\n",
    "matrix(DIC$Fator, ncol = nf, dimnames = list(1:r, 1:nf))"
   ]
  },
  {
   "cell_type": "code",
   "execution_count": null,
   "metadata": {
    "collapsed": true
   },
   "outputs": [],
   "source": []
  }
 ],
 "metadata": {
  "kernelspec": {
   "display_name": "R",
   "language": "R",
   "name": "ir"
  },
  "language_info": {
   "codemirror_mode": "r",
   "file_extension": ".r",
   "mimetype": "text/x-r-source",
   "name": "R",
   "pygments_lexer": "r",
   "version": "3.4.1"
  }
 },
 "nbformat": 4,
 "nbformat_minor": 2
}
